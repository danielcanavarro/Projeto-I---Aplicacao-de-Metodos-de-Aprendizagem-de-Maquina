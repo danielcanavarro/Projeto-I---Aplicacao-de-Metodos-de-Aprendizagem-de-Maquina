{
 "cells": [
  {
   "cell_type": "markdown",
   "metadata": {},
   "source": [
    "\n",
    "**Identificação**: Daniel Leonel Canavarro da Silva\n",
    "\n",
    "**Curso**: Big Data e Inteligência Analítica\n",
    "\n",
    "**Matrícula**: 620913\n",
    "\n",
    "\n",
    "# Classificação da Planta Iris\n",
    "\n",
    "Iris é um gênero de plantas com flor, muito apreciado pelas suas diversas espécies, que ostentam flores de cores muito vivas. São, vulgarmente, designadas como lírios, embora tal termo se aplique com mais propriedade a outro tipo de flor. É uma flor muito frequente em jardins. O termo íris é compartilhado, contudo, com outros géneros botânicos relacionados, da família Iridaceae. Fonte: https://pt.wikipedia.org/wiki/Iris_(g%C3%A9nero)\n",
    "\n",
    "Neste estudo, estamos considerando 3 classes de Iris: Setosa, Versicolor e Virginica. Elas se diferem basicamente pelo formato e coloração. Para classificar o tipo de planta Iris usaremos as medidas das Sépalas e Pétalas. Este estudo pode servir como exemplo e suporte em pesquisas de outras espécies de plantas.\n",
    "\n",
    "### Objetivo:\n",
    "\n",
    "* Esse projeto tem como objetivo aplicar algoritmos de machine learning para classificar a Planta Iris.\n",
    "\n",
    "### Especificação Técnica:\n",
    "\n",
    "**Dataset**: \n",
    "\n",
    "* Para desenvolvimento desse projeto, será utilizado o Iris DataSet, disponível em: https://archive.ics.uci.edu/ml/datasets/Iris\n",
    "\n",
    "**Formato**: A base de dados está em formato CSV, divida em 5 colunas, comprimento e largura da sépala em (cm), comprimento e largura da pétala em (cm) e classe/descrição: Iris Setosa, Iris Versicolor, Iris Virginica. A base de dados contém variáveis contínuas. \n",
    "\n",
    "**Métodos de Pŕe-processamento**: Entendo que 70% a 80% do tempo de um projeto de Data Science é dedicado ao processo de ETL. No entanto, este Dataset é pequeno com 150 linhas e não demandou grandes modificações. \n",
    "\n",
    "**Tarefa de Aprendizado**: \n",
    "\n",
    "* Será aplicado a tarefa de Classificação \n",
    "\n",
    "**Algoritmos Avaliados**: \n",
    "\n",
    "* Serão avaliados os algoritmos KNN, Naïve Bayes e SVM. "
   ]
  },
  {
   "cell_type": "markdown",
   "metadata": {},
   "source": [
    "# Iniciando a Preparação dos Dados"
   ]
  },
  {
   "cell_type": "markdown",
   "metadata": {},
   "source": [
    "\n",
    "**Informações do DataSet**:\n",
    "* 1. comprimento da sépala em cm\n",
    "* 2. largura da sépala em cm\n",
    "* 3. comprimento da pétala cm\n",
    "* 4. largura da pétala em cm\n",
    "* 5. classes: Iris Setosa, Iris Versicolor e Iris Virginica\n",
    "\n"
   ]
  },
  {
   "cell_type": "markdown",
   "metadata": {},
   "source": [
    "**Importando as Bibliotecas**:"
   ]
  },
  {
   "cell_type": "code",
   "execution_count": 2,
   "metadata": {},
   "outputs": [],
   "source": [
    "import pandas as pd\n",
    "import numpy as np\n"
   ]
  },
  {
   "cell_type": "markdown",
   "metadata": {},
   "source": [
    "**Conexão com o dataset utilizado**:\n"
   ]
  },
  {
   "cell_type": "code",
   "execution_count": 3,
   "metadata": {},
   "outputs": [],
   "source": [
    "# Carregando o Dataset para visualização.\n",
    "\n",
    "from sklearn.datasets import load_iris\n",
    "\n",
    "iris = load_iris()\n",
    "\n",
    "df = pd.DataFrame(data=np.c_[iris['data'], iris['target']], columns=iris['feature_names'] + ['target'])\n"
   ]
  },
  {
   "cell_type": "markdown",
   "metadata": {},
   "source": [
    "**Exibição de trechos dos dados**:"
   ]
  },
  {
   "cell_type": "code",
   "execution_count": 4,
   "metadata": {},
   "outputs": [
    {
     "data": {
      "text/html": [
       "<div>\n",
       "<style scoped>\n",
       "    .dataframe tbody tr th:only-of-type {\n",
       "        vertical-align: middle;\n",
       "    }\n",
       "\n",
       "    .dataframe tbody tr th {\n",
       "        vertical-align: top;\n",
       "    }\n",
       "\n",
       "    .dataframe thead th {\n",
       "        text-align: right;\n",
       "    }\n",
       "</style>\n",
       "<table border=\"1\" class=\"dataframe\">\n",
       "  <thead>\n",
       "    <tr style=\"text-align: right;\">\n",
       "      <th></th>\n",
       "      <th>sepal length (cm)</th>\n",
       "      <th>sepal width (cm)</th>\n",
       "      <th>petal length (cm)</th>\n",
       "      <th>petal width (cm)</th>\n",
       "      <th>target</th>\n",
       "    </tr>\n",
       "  </thead>\n",
       "  <tbody>\n",
       "    <tr>\n",
       "      <th>0</th>\n",
       "      <td>5.1</td>\n",
       "      <td>3.5</td>\n",
       "      <td>1.4</td>\n",
       "      <td>0.2</td>\n",
       "      <td>0.0</td>\n",
       "    </tr>\n",
       "    <tr>\n",
       "      <th>1</th>\n",
       "      <td>4.9</td>\n",
       "      <td>3.0</td>\n",
       "      <td>1.4</td>\n",
       "      <td>0.2</td>\n",
       "      <td>0.0</td>\n",
       "    </tr>\n",
       "    <tr>\n",
       "      <th>2</th>\n",
       "      <td>4.7</td>\n",
       "      <td>3.2</td>\n",
       "      <td>1.3</td>\n",
       "      <td>0.2</td>\n",
       "      <td>0.0</td>\n",
       "    </tr>\n",
       "    <tr>\n",
       "      <th>3</th>\n",
       "      <td>4.6</td>\n",
       "      <td>3.1</td>\n",
       "      <td>1.5</td>\n",
       "      <td>0.2</td>\n",
       "      <td>0.0</td>\n",
       "    </tr>\n",
       "    <tr>\n",
       "      <th>4</th>\n",
       "      <td>5.0</td>\n",
       "      <td>3.6</td>\n",
       "      <td>1.4</td>\n",
       "      <td>0.2</td>\n",
       "      <td>0.0</td>\n",
       "    </tr>\n",
       "  </tbody>\n",
       "</table>\n",
       "</div>"
      ],
      "text/plain": [
       "   sepal length (cm)  sepal width (cm)  petal length (cm)  petal width (cm)  \\\n",
       "0                5.1               3.5                1.4               0.2   \n",
       "1                4.9               3.0                1.4               0.2   \n",
       "2                4.7               3.2                1.3               0.2   \n",
       "3                4.6               3.1                1.5               0.2   \n",
       "4                5.0               3.6                1.4               0.2   \n",
       "\n",
       "   target  \n",
       "0     0.0  \n",
       "1     0.0  \n",
       "2     0.0  \n",
       "3     0.0  \n",
       "4     0.0  "
      ]
     },
     "execution_count": 4,
     "metadata": {},
     "output_type": "execute_result"
    }
   ],
   "source": [
    "# Visualizando os 5 primeiros registros do DataSet\n",
    "\n",
    "df.head()"
   ]
  },
  {
   "cell_type": "code",
   "execution_count": 5,
   "metadata": {},
   "outputs": [
    {
     "data": {
      "text/html": [
       "<div>\n",
       "<style scoped>\n",
       "    .dataframe tbody tr th:only-of-type {\n",
       "        vertical-align: middle;\n",
       "    }\n",
       "\n",
       "    .dataframe tbody tr th {\n",
       "        vertical-align: top;\n",
       "    }\n",
       "\n",
       "    .dataframe thead th {\n",
       "        text-align: right;\n",
       "    }\n",
       "</style>\n",
       "<table border=\"1\" class=\"dataframe\">\n",
       "  <thead>\n",
       "    <tr style=\"text-align: right;\">\n",
       "      <th></th>\n",
       "      <th>sepal length (cm)</th>\n",
       "      <th>sepal width (cm)</th>\n",
       "      <th>petal length (cm)</th>\n",
       "      <th>petal width (cm)</th>\n",
       "      <th>target</th>\n",
       "    </tr>\n",
       "  </thead>\n",
       "  <tbody>\n",
       "    <tr>\n",
       "      <th>145</th>\n",
       "      <td>6.7</td>\n",
       "      <td>3.0</td>\n",
       "      <td>5.2</td>\n",
       "      <td>2.3</td>\n",
       "      <td>2.0</td>\n",
       "    </tr>\n",
       "    <tr>\n",
       "      <th>146</th>\n",
       "      <td>6.3</td>\n",
       "      <td>2.5</td>\n",
       "      <td>5.0</td>\n",
       "      <td>1.9</td>\n",
       "      <td>2.0</td>\n",
       "    </tr>\n",
       "    <tr>\n",
       "      <th>147</th>\n",
       "      <td>6.5</td>\n",
       "      <td>3.0</td>\n",
       "      <td>5.2</td>\n",
       "      <td>2.0</td>\n",
       "      <td>2.0</td>\n",
       "    </tr>\n",
       "    <tr>\n",
       "      <th>148</th>\n",
       "      <td>6.2</td>\n",
       "      <td>3.4</td>\n",
       "      <td>5.4</td>\n",
       "      <td>2.3</td>\n",
       "      <td>2.0</td>\n",
       "    </tr>\n",
       "    <tr>\n",
       "      <th>149</th>\n",
       "      <td>5.9</td>\n",
       "      <td>3.0</td>\n",
       "      <td>5.1</td>\n",
       "      <td>1.8</td>\n",
       "      <td>2.0</td>\n",
       "    </tr>\n",
       "  </tbody>\n",
       "</table>\n",
       "</div>"
      ],
      "text/plain": [
       "     sepal length (cm)  sepal width (cm)  petal length (cm)  petal width (cm)  \\\n",
       "145                6.7               3.0                5.2               2.3   \n",
       "146                6.3               2.5                5.0               1.9   \n",
       "147                6.5               3.0                5.2               2.0   \n",
       "148                6.2               3.4                5.4               2.3   \n",
       "149                5.9               3.0                5.1               1.8   \n",
       "\n",
       "     target  \n",
       "145     2.0  \n",
       "146     2.0  \n",
       "147     2.0  \n",
       "148     2.0  \n",
       "149     2.0  "
      ]
     },
     "execution_count": 5,
     "metadata": {},
     "output_type": "execute_result"
    }
   ],
   "source": [
    "# Visualizando os 5 últimos registros do DataSet\n",
    "\n",
    "df.tail()"
   ]
  },
  {
   "cell_type": "markdown",
   "metadata": {},
   "source": [
    "**Explicar cada método de pré-processamento a ser utilizado e Aplicar os métodos de pré-processamento selecionados**:\n",
    "* Como informado no início do projeto, para este Dataset não houve grandes alterações. Uma vez que o Dataset foi importado de uma base de dados consolidada. Mas entendo que para um Dataset está pronto para uso, os dados devem estar validados quanto a o seu valor, limpos sem valores em branco, os tipos de dados devem obedecer o algoritmo de machine learning para que não ocorram erros."
   ]
  },
  {
   "cell_type": "markdown",
   "metadata": {},
   "source": [
    "**Escolher uma maneira de particionar os dados**:\n",
    "* O DataSet será particionado usando o método Treino/Teste do sklearn.\n",
    "\n"
   ]
  },
  {
   "cell_type": "markdown",
   "metadata": {},
   "source": [
    "**Carregando o DataSet e Atribuindo à variáveis**:"
   ]
  },
  {
   "cell_type": "code",
   "execution_count": 4,
   "metadata": {},
   "outputs": [],
   "source": [
    "iris = load_iris()\n",
    "\n",
    "X = iris.data[:, [2, 3]]\n",
    "y = iris.target\n"
   ]
  },
  {
   "cell_type": "markdown",
   "metadata": {},
   "source": [
    "**Particionando os Dados**:\n",
    "* 30% do Dataset será destinado para teste enquanto 70% será destinado para o treinamento."
   ]
  },
  {
   "cell_type": "code",
   "execution_count": 5,
   "metadata": {},
   "outputs": [
    {
     "name": "stdout",
     "output_type": "stream",
     "text": [
      "\n",
      "Existem 105 Amostras de treino e 45 amostras de teste\n",
      "\n"
     ]
    }
   ],
   "source": [
    "# Importando a biblioteca sklearn para particionar o DataSet\n",
    "\n",
    "from sklearn.model_selection import train_test_split\n",
    "\n",
    "X_train, X_test, y_train, y_test = train_test_split(X, y, test_size=0.3, random_state=0)\n",
    "\n",
    "print('\\nExistem {} Amostras de treino e {} amostras de teste\\n'.format(X_train.shape[0], X_test.shape[0]))\n"
   ]
  },
  {
   "cell_type": "markdown",
   "metadata": {},
   "source": [
    "# Aplicar ao menos um algoritmo de Machine Learning e Utilizar métricas de avaliação:\n",
    "\n",
    "**Obs: Os exemplos aqui mostrados foram baseados nos exemplos estudados na matéria \"Machine Learning I - Classificação e Regressão\"**\n",
    "\n"
   ]
  },
  {
   "cell_type": "markdown",
   "metadata": {},
   "source": [
    "\n",
    "**TREINANDO E AVALIANDO O MÉTODO KNN(KNeighborsClassifier)**"
   ]
  },
  {
   "cell_type": "code",
   "execution_count": 6,
   "metadata": {},
   "outputs": [
    {
     "name": "stdout",
     "output_type": "stream",
     "text": [
      "\n",
      "A acurácia do KNN na base de treino é: 0.95 \n",
      "\n",
      "A acurácia do KNN na base de teste é: 0.98\n",
      "\n"
     ]
    }
   ],
   "source": [
    "from sklearn.neighbors import KNeighborsClassifier\n",
    "\n",
    "knn = KNeighborsClassifier(n_neighbors=5, p=2, metric='minkowski')\n",
    "\n",
    "knn.fit(X_train, y_train)\n",
    "\n",
    "print('\\nA acurácia do KNN na base de treino é: {:.2f} '.format(knn.score(X_train, y_train)))\n",
    "\n",
    "print('\\nA acurácia do KNN na base de teste é: {:.2f}\\n'.format(knn.score(X_test, y_test)))\n"
   ]
  },
  {
   "cell_type": "markdown",
   "metadata": {},
   "source": [
    "**TREINANDO E AVALIANDO O MÉTODO NAIVE BAYES MULTINOMIAL**"
   ]
  },
  {
   "cell_type": "code",
   "execution_count": 7,
   "metadata": {},
   "outputs": [
    {
     "name": "stdout",
     "output_type": "stream",
     "text": [
      "A acurácia do Naive Bayes na base de treino é: 0.41 \n",
      "\n",
      "A acurácia do Naive Bayes na base de teste é: 0.29 \n"
     ]
    }
   ],
   "source": [
    "from sklearn.naive_bayes import MultinomialNB\n",
    "\n",
    "classificador_NB = MultinomialNB()\n",
    "\n",
    "classificador_NB.fit(X_train, y_train)\n",
    "\n",
    "print('A acurácia do Naive Bayes na base de treino é: {:.2f} '.format(classificador_NB.score(X_train, y_train)))\n",
    "\n",
    "print('\\nA acurácia do Naive Bayes na base de teste é: {:.2f} '.format(classificador_NB.score(X_test, y_test)))\n"
   ]
  },
  {
   "cell_type": "markdown",
   "metadata": {},
   "source": [
    "**TREINANDO E AVALIANDO O MÉTODO NAIVE BAYES BERNOULLI**"
   ]
  },
  {
   "cell_type": "code",
   "execution_count": 8,
   "metadata": {},
   "outputs": [
    {
     "name": "stdout",
     "output_type": "stream",
     "text": [
      "A acurácia do Naive Bayes Bernoulli na base de treino é: 0.37 \n",
      "\n",
      "A acurácia do Naive Bayes Bernoulli na base de teste é: 0.24 \n"
     ]
    }
   ],
   "source": [
    "from sklearn.naive_bayes import BernoulliNB\n",
    "\n",
    "classificador_NB = BernoulliNB()\n",
    "\n",
    "classificador_NB.fit(X_train, y_train)\n",
    "\n",
    "print('A acurácia do Naive Bayes Bernoulli na base de treino é: {:.2f} '.format(classificador_NB.score(X_train, y_train)))\n",
    "\n",
    "print('\\nA acurácia do Naive Bayes Bernoulli na base de teste é: {:.2f} '.format(classificador_NB.score(X_test, y_test)))\n"
   ]
  },
  {
   "cell_type": "markdown",
   "metadata": {},
   "source": [
    "**TREINANDO E AVALIANDO O MÉTODO REGRESSÃO LINEAR**"
   ]
  },
  {
   "cell_type": "code",
   "execution_count": 9,
   "metadata": {},
   "outputs": [
    {
     "name": "stdout",
     "output_type": "stream",
     "text": [
      "A acurácia da Regressão Linear na base de treino é: 0.93 \n",
      "\n",
      "A acurácia da Regressão Linear na base de teste é: 0.91 \n"
     ]
    }
   ],
   "source": [
    "from sklearn.linear_model import LinearRegression\n",
    "\n",
    "classificador_RL = LinearRegression()\n",
    "\n",
    "classificador_RL.fit(X_train, y_train)\n",
    "\n",
    "print('A acurácia da Regressão Linear na base de treino é: {:.2f} '.format(classificador_RL.score(X_train,y_train)))\n",
    "\n",
    "print('\\nA acurácia da Regressão Linear na base de teste é: {:.2f} '.format(classificador_RL.score(X_test, y_test)))"
   ]
  },
  {
   "cell_type": "markdown",
   "metadata": {},
   "source": [
    "**TREINANDO E AVALIANDO O MÉTODO REGRESSÃO LOGÍSTICA**"
   ]
  },
  {
   "cell_type": "code",
   "execution_count": 10,
   "metadata": {},
   "outputs": [
    {
     "name": "stdout",
     "output_type": "stream",
     "text": [
      "A acurácia da Regressão Linear na base de treino é: 0.97 \n",
      "\n",
      "A acurácia da Regressão Logística na base de teste é: 0.98 \n"
     ]
    }
   ],
   "source": [
    "from sklearn.linear_model import LogisticRegression\n",
    "\n",
    "classificador_RLog = LogisticRegression(random_state=0)\n",
    "\n",
    "classificador_RLog.fit(X_train, y_train)\n",
    "\n",
    "print('A acurácia da Regressão Linear na base de treino é: {:.2f} '.format(classificador_RLog.score(X_train, y_train)))\n",
    "\n",
    "print('\\nA acurácia da Regressão Logística na base de teste é: {:.2f} '.format(classificador_RLog.score(X_test, y_test)))\n"
   ]
  },
  {
   "cell_type": "markdown",
   "metadata": {},
   "source": [
    "**TREINANDO E AVALIANDO O MÉTODO SVM(SUPPORT VECTOR MACHINE)**"
   ]
  },
  {
   "cell_type": "code",
   "execution_count": 11,
   "metadata": {},
   "outputs": [
    {
     "name": "stdout",
     "output_type": "stream",
     "text": [
      "A acurácia do SVM na base de treino é: 0.97 \n",
      "\n",
      "A acurácia do SVM na base de teste é: 0.98 \n"
     ]
    }
   ],
   "source": [
    "from sklearn import svm\n",
    "\n",
    "classificador_SVM = LogisticRegression(random_state=0)\n",
    "\n",
    "classificador_SVM.fit(X_train, y_train)\n",
    "\n",
    "print('A acurácia do SVM na base de treino é: {:.2f} '.format(classificador_SVM.score(X_train, y_train)))\n",
    "\n",
    "print('\\nA acurácia do SVM na base de teste é: {:.2f} '.format(classificador_SVM.score(X_test, y_test)))\n"
   ]
  },
  {
   "cell_type": "markdown",
   "metadata": {},
   "source": [
    "**Pelos testes implementados, é possível perceber que os métodos com maior acurácia fora Regressão Logística e Support Vector Machine**"
   ]
  },
  {
   "cell_type": "markdown",
   "metadata": {},
   "source": [
    "### Não consegui executar a tarefa abaixo:\n",
    "\n",
    "**\"Criar o preditor, que, deverá predizer uma nova entrada, com base no conjunto de dados.\"**"
   ]
  },
  {
   "cell_type": "code",
   "execution_count": null,
   "metadata": {},
   "outputs": [],
   "source": []
  }
 ],
 "metadata": {
  "colab": {
   "collapsed_sections": [],
   "name": "Projeto I - Aplicação de Métodos de Aprendizagem de Máquina  - Entrega I",
   "provenance": []
  },
  "kernelspec": {
   "display_name": "Python 3",
   "language": "python",
   "name": "python3"
  },
  "language_info": {
   "codemirror_mode": {
    "name": "ipython",
    "version": 3
   },
   "file_extension": ".py",
   "mimetype": "text/x-python",
   "name": "python",
   "nbconvert_exporter": "python",
   "pygments_lexer": "ipython3",
   "version": "3.8.8"
  }
 },
 "nbformat": 4,
 "nbformat_minor": 1
}
