{
 "cells": [
  {
   "cell_type": "markdown",
   "metadata": {
    "id": "5QQcoAZ0WVFy"
   },
   "source": [
    "\n",
    "**Identificação**: Daniel Leonel Canavarro da Silva\n",
    "\n",
    "**Curso**: Big Data e Inteligência Analítica\n",
    "\n",
    "**Matrícula**: 620913\n",
    "\n",
    "\n",
    "# Classificação da Planta Iris\n",
    "\n",
    "Iris é um gênero de plantas com flor, muito apreciado pelas suas diversas espécies, que ostentam flores de cores muito vivas. São, vulgarmente, designadas como lírios, embora tal termo se aplique com mais propriedade a outro tipo de flor. É uma flor muito frequente em jardins. O termo íris é compartilhado, contudo, com outros géneros botânicos relacionados, da família Iridaceae. Fonte: https://pt.wikipedia.org/wiki/Iris_(g%C3%A9nero)\n",
    "\n",
    "Neste estudo, estamos considerando 3 classes de Iris: Setosa, Versicolor e Virginica. Elas se diferem basicamente pelo formato e coloração. Para classificar o tipo de planta Iris usaremos as medidas das Sépalas e Pétalas. Este estudo pode servir como exemplo e suporte em pesquisas de outras espécies de plantas.\n",
    "\n",
    "### Objetivo:\n",
    "\n",
    "* Esse projeto tem como objetivo aplicar algoritmos de machine learning para classificar a Planta Iris.\n",
    "\n",
    "### Especificação Técnica:\n",
    "\n",
    "**Dataset**: \n",
    "\n",
    "* Para desenvolvimento desse projeto, será utilizado o Iris DataSet, disponível em: https://archive.ics.uci.edu/ml/datasets/Iris\n",
    "\n",
    "**Formato**: A base de dados está em formato CSV, divida em 5 colunas, comprimento e largura da sépala em (cm), comprimento e largura da pétala em (cm) e classe/descrição: Iris Setosa, Iris Versicolor, Iris Virginica. A base de dados contém variáveis contínuas. \n",
    "\n",
    "**Métodos de Pŕe-processamento**: Entendo que 70% a 80% do tempo de um projeto de Data Science é dedicado ao processo de ETL. No entanto, este Dataset é pequeno com 150 linhas e não demandou grandes modificações. \n",
    "\n",
    "**Tarefa de Aprendizado**: \n",
    "\n",
    "* Será aplicado a tarefa de Classificação \n",
    "\n",
    "**Algoritmos Avaliados**: \n",
    "\n",
    "* Serão avaliados os algoritmos KNN, Naïve Bayes e SVM. "
   ]
  },
  {
   "cell_type": "code",
   "execution_count": null,
   "metadata": {},
   "outputs": [],
   "source": []
  }
 ],
 "metadata": {
  "colab": {
   "collapsed_sections": [],
   "name": "Projeto I - Aplicação de Métodos de Aprendizagem de Máquina  - Entrega I",
   "provenance": []
  },
  "kernelspec": {
   "display_name": "Python 3",
   "language": "python",
   "name": "python3"
  },
  "language_info": {
   "codemirror_mode": {
    "name": "ipython",
    "version": 3
   },
   "file_extension": ".py",
   "mimetype": "text/x-python",
   "name": "python",
   "nbconvert_exporter": "python",
   "pygments_lexer": "ipython3",
   "version": "3.8.8"
  }
 },
 "nbformat": 4,
 "nbformat_minor": 1
}
